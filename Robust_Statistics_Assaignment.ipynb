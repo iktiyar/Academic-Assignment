{
  "nbformat": 4,
  "nbformat_minor": 0,
  "metadata": {
    "colab": {
      "provenance": []
    },
    "kernelspec": {
      "name": "ir",
      "display_name": "R"
    },
    "language_info": {
      "name": "R"
    }
  },
  "cells": [
    {
      "cell_type": "code",
      "source": [
        "# Given dataset\n",
        "X <- c(-50, 10, 12, 14, 20, 120)\n",
        "# Median of the dataset\n",
        "med_X <- median(X)\n",
        "# Length of the dataset\n",
        "n <- length(X)\n",
        "# Delta given 10%\n",
        "Q <- 10 / 100\n",
        "nQ <- n * Q"
      ],
      "metadata": {
        "id": "ymywYLACuRoV"
      },
      "execution_count": 1,
      "outputs": []
    },
    {
      "cell_type": "code",
      "source": [
        "# MADN function\n",
        "MADN <- function(x, med_X) {\n",
        "  mad <- abs(x - med_X)\n",
        "  madx <- median(mad)\n",
        "  madn <- madx / 0.6745\n",
        "  return(madn)\n",
        "}\n",
        "init_est <- MADN(X, med_X) # Initial estimator\n",
        "cat(\"Initial Estimator:\", init_est, \"\\n\")"
      ],
      "metadata": {
        "colab": {
          "base_uri": "https://localhost:8080/"
        },
        "id": "KLdm_70ruRvF",
        "outputId": "9ca90a4e-12d2-4c40-c544-a06b82cedaad"
      },
      "execution_count": 2,
      "outputs": [
        {
          "output_type": "stream",
          "name": "stdout",
          "text": [
            "Initial Estimator: 7.412898 \n"
          ]
        }
      ]
    },
    {
      "cell_type": "code",
      "source": [
        "# Bisquare rho function\n",
        "rho_func <- function(x, init_est) {\n",
        "  rho <- pmin(1, (1 - (1 - (x / init_est) ^ 2) ^ 3))\n",
        "  return(rho)\n",
        "}\n",
        "rho_s <- rho_func(X, init_est)\n",
        "cat(\"Rho estimated:\", rho_s, \"\\n\")"
      ],
      "metadata": {
        "colab": {
          "base_uri": "https://localhost:8080/"
        },
        "id": "mKqwqjpCuhT5",
        "outputId": "6e92d764-880d-4904-8377-45bd395a9964"
      },
      "execution_count": 3,
      "outputs": [
        {
          "output_type": "stream",
          "name": "stdout",
          "text": [
            "Rho estimated: 1 1 1 1 1 1 \n"
          ]
        }
      ]
    },
    {
      "cell_type": "code",
      "source": [
        "# Weight function\n",
        "weight_func <- function(x, rho_s, init_est) {\n",
        "  weight <- round((rho_s / (x / init_est) ^ 2), 4)\n",
        "  return(weight)\n",
        "}\n",
        "\n",
        "weight_s <- weight_func(X, rho_s, init_est)\n",
        "cat(\"Weight estimated:\", weight_s, \"\\n\")"
      ],
      "metadata": {
        "colab": {
          "base_uri": "https://localhost:8080/"
        },
        "id": "qFaOANYUumf2",
        "outputId": "58e5272b-6ba2-472e-f7ea-d70964475601"
      },
      "execution_count": 4,
      "outputs": [
        {
          "output_type": "stream",
          "name": "stdout",
          "text": [
            "Weight estimated: 0.022 0.5495 0.3816 0.2804 0.1374 0.0038 \n"
          ]
        }
      ]
    },
    {
      "cell_type": "code",
      "source": [
        "# Scale estimate function\n",
        "scale_est <- function(wt, x, nQ) {\n",
        "  est <- wt * (x ^ 2)\n",
        "  tot_est <- sum(est)\n",
        "  first_iter <- sqrt(tot_est / nQ)\n",
        "  return(first_iter)\n",
        "}\n",
        "scale_estimate <- scale_est(weight_s, X, nQ)\n",
        "cat(\"First iteration of the scale estimate:\", scale_estimate, \"\\n\")"
      ],
      "metadata": {
        "colab": {
          "base_uri": "https://localhost:8080/"
        },
        "id": "Hg-Un7AQux7x",
        "outputId": "f4bc19c9-e62f-47fb-ed45-1b40112f61e8"
      },
      "execution_count": 5,
      "outputs": [
        {
          "output_type": "stream",
          "name": "stdout",
          "text": [
            "First iteration of the scale estimate: 23.43569 \n"
          ]
        }
      ]
    }
  ]
}