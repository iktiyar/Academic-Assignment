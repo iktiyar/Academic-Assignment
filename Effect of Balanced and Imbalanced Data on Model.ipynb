{
 "cells": [
  {
   "cell_type": "code",
   "execution_count": 1,
   "id": "0790bbf0",
   "metadata": {},
   "outputs": [],
   "source": [
    "import warnings\n",
    "warnings.filterwarnings('ignore')\n",
    "import pandas as pd\n",
    "import numpy as np\n",
    "import matplotlib.pyplot as plt\n",
    "import seaborn as sns\n",
    "%matplotlib inline\n",
    "pd.set_option('display.max_columns',None)\n",
    "df = pd.read_csv(\"C:/Users/User/Downloads/diabetes_prediction_dataset.csv\")\n",
    "df = df[df['gender'] != 'Other']\n",
    "df.drop_duplicates(inplace=True)\n",
    "def age_stage(age):\n",
    "    if age<=1:                    # Infants(0-1)\n",
    "        return 'Infant'         \n",
    "    elif age<=12:                 # Children(2-12)\n",
    "        return 'Child'\n",
    "    elif age<=19:                 # Teenagers(13-19)\n",
    "        return 'Teenager'\n",
    "    elif age<=24:                 # Youths(20-24)\n",
    "        return 'Youth'\n",
    "    elif age<=64:                 # Adults(25-64)\n",
    "        return 'Adult'\n",
    "    else:                         # Seniors(65 years and over)\n",
    "        return 'Senior'\n",
    "df['age_stage'] = df['age'].apply(age_stage)\n",
    "def outlier_detection(Column):\n",
    "    Q3 = df[Column].quantile(0.75)\n",
    "    Q1 = df[Column].quantile(0.25)\n",
    "    IQR = Q3-Q1\n",
    "    Up_Lim = Q3+1.5*IQR\n",
    "    Low_Lim = Q1-1.5*IQR\n",
    "    num = len(df[(df[Column]>Up_Lim)|(df[Column]<Low_Lim)])\n",
    "def outlier_capping(column):\n",
    "    x = df[column]\n",
    "    q3 = df[column].quantile(0.75)\n",
    "    q1 = df[column].quantile(0.25)\n",
    "    iqr = q3-q1\n",
    "    upper_limit = q3+1.5*iqr\n",
    "    lower_limit = q1-1.5*iqr\n",
    "    df[column] = np.where(df[column]>upper_limit,upper_limit,\n",
    "                          np.where(df[column]<lower_limit,lower_limit,df[column]))\n",
    "outlier_capping('bmi')\n",
    "outlier_capping('HbA1c_level')\n",
    "outlier_capping('blood_glucose_level')"
   ]
  },
  {
   "cell_type": "code",
   "execution_count": 2,
   "id": "8131cc10",
   "metadata": {},
   "outputs": [
    {
     "data": {
      "text/html": [
       "<div>\n",
       "<style scoped>\n",
       "    .dataframe tbody tr th:only-of-type {\n",
       "        vertical-align: middle;\n",
       "    }\n",
       "\n",
       "    .dataframe tbody tr th {\n",
       "        vertical-align: top;\n",
       "    }\n",
       "\n",
       "    .dataframe thead th {\n",
       "        text-align: right;\n",
       "    }\n",
       "</style>\n",
       "<table border=\"1\" class=\"dataframe\">\n",
       "  <thead>\n",
       "    <tr style=\"text-align: right;\">\n",
       "      <th></th>\n",
       "      <th>gender</th>\n",
       "      <th>age</th>\n",
       "      <th>hypertension</th>\n",
       "      <th>heart_disease</th>\n",
       "      <th>smoking_history</th>\n",
       "      <th>bmi</th>\n",
       "      <th>HbA1c_level</th>\n",
       "      <th>blood_glucose_level</th>\n",
       "      <th>diabetes</th>\n",
       "      <th>age_stage</th>\n",
       "    </tr>\n",
       "  </thead>\n",
       "  <tbody>\n",
       "    <tr>\n",
       "      <th>35624</th>\n",
       "      <td>Female</td>\n",
       "      <td>66.0</td>\n",
       "      <td>0</td>\n",
       "      <td>0</td>\n",
       "      <td>No Info</td>\n",
       "      <td>33.30</td>\n",
       "      <td>4.5</td>\n",
       "      <td>85.0</td>\n",
       "      <td>0</td>\n",
       "      <td>Senior</td>\n",
       "    </tr>\n",
       "    <tr>\n",
       "      <th>28548</th>\n",
       "      <td>Female</td>\n",
       "      <td>63.0</td>\n",
       "      <td>0</td>\n",
       "      <td>0</td>\n",
       "      <td>former</td>\n",
       "      <td>16.56</td>\n",
       "      <td>5.7</td>\n",
       "      <td>158.0</td>\n",
       "      <td>0</td>\n",
       "      <td>Adult</td>\n",
       "    </tr>\n",
       "    <tr>\n",
       "      <th>67427</th>\n",
       "      <td>Female</td>\n",
       "      <td>65.0</td>\n",
       "      <td>0</td>\n",
       "      <td>0</td>\n",
       "      <td>never</td>\n",
       "      <td>23.00</td>\n",
       "      <td>6.5</td>\n",
       "      <td>126.0</td>\n",
       "      <td>0</td>\n",
       "      <td>Senior</td>\n",
       "    </tr>\n",
       "    <tr>\n",
       "      <th>11080</th>\n",
       "      <td>Female</td>\n",
       "      <td>21.0</td>\n",
       "      <td>0</td>\n",
       "      <td>0</td>\n",
       "      <td>never</td>\n",
       "      <td>27.32</td>\n",
       "      <td>5.8</td>\n",
       "      <td>100.0</td>\n",
       "      <td>0</td>\n",
       "      <td>Youth</td>\n",
       "    </tr>\n",
       "    <tr>\n",
       "      <th>49660</th>\n",
       "      <td>Male</td>\n",
       "      <td>18.0</td>\n",
       "      <td>0</td>\n",
       "      <td>0</td>\n",
       "      <td>No Info</td>\n",
       "      <td>33.17</td>\n",
       "      <td>6.0</td>\n",
       "      <td>126.0</td>\n",
       "      <td>0</td>\n",
       "      <td>Teenager</td>\n",
       "    </tr>\n",
       "    <tr>\n",
       "      <th>20005</th>\n",
       "      <td>Female</td>\n",
       "      <td>17.0</td>\n",
       "      <td>0</td>\n",
       "      <td>0</td>\n",
       "      <td>never</td>\n",
       "      <td>27.32</td>\n",
       "      <td>6.2</td>\n",
       "      <td>90.0</td>\n",
       "      <td>0</td>\n",
       "      <td>Teenager</td>\n",
       "    </tr>\n",
       "    <tr>\n",
       "      <th>6938</th>\n",
       "      <td>Female</td>\n",
       "      <td>80.0</td>\n",
       "      <td>0</td>\n",
       "      <td>0</td>\n",
       "      <td>current</td>\n",
       "      <td>20.70</td>\n",
       "      <td>6.6</td>\n",
       "      <td>155.0</td>\n",
       "      <td>0</td>\n",
       "      <td>Senior</td>\n",
       "    </tr>\n",
       "    <tr>\n",
       "      <th>31363</th>\n",
       "      <td>Female</td>\n",
       "      <td>18.0</td>\n",
       "      <td>0</td>\n",
       "      <td>0</td>\n",
       "      <td>never</td>\n",
       "      <td>22.84</td>\n",
       "      <td>6.1</td>\n",
       "      <td>160.0</td>\n",
       "      <td>0</td>\n",
       "      <td>Teenager</td>\n",
       "    </tr>\n",
       "    <tr>\n",
       "      <th>62298</th>\n",
       "      <td>Female</td>\n",
       "      <td>37.0</td>\n",
       "      <td>0</td>\n",
       "      <td>0</td>\n",
       "      <td>former</td>\n",
       "      <td>25.68</td>\n",
       "      <td>5.8</td>\n",
       "      <td>80.0</td>\n",
       "      <td>0</td>\n",
       "      <td>Adult</td>\n",
       "    </tr>\n",
       "    <tr>\n",
       "      <th>79776</th>\n",
       "      <td>Female</td>\n",
       "      <td>58.0</td>\n",
       "      <td>0</td>\n",
       "      <td>0</td>\n",
       "      <td>never</td>\n",
       "      <td>28.87</td>\n",
       "      <td>6.0</td>\n",
       "      <td>159.0</td>\n",
       "      <td>0</td>\n",
       "      <td>Adult</td>\n",
       "    </tr>\n",
       "  </tbody>\n",
       "</table>\n",
       "</div>"
      ],
      "text/plain": [
       "       gender   age  hypertension  heart_disease smoking_history    bmi  \\\n",
       "35624  Female  66.0             0              0         No Info  33.30   \n",
       "28548  Female  63.0             0              0          former  16.56   \n",
       "67427  Female  65.0             0              0           never  23.00   \n",
       "11080  Female  21.0             0              0           never  27.32   \n",
       "49660    Male  18.0             0              0         No Info  33.17   \n",
       "20005  Female  17.0             0              0           never  27.32   \n",
       "6938   Female  80.0             0              0         current  20.70   \n",
       "31363  Female  18.0             0              0           never  22.84   \n",
       "62298  Female  37.0             0              0          former  25.68   \n",
       "79776  Female  58.0             0              0           never  28.87   \n",
       "\n",
       "       HbA1c_level  blood_glucose_level  diabetes age_stage  \n",
       "35624          4.5                 85.0         0    Senior  \n",
       "28548          5.7                158.0         0     Adult  \n",
       "67427          6.5                126.0         0    Senior  \n",
       "11080          5.8                100.0         0     Youth  \n",
       "49660          6.0                126.0         0  Teenager  \n",
       "20005          6.2                 90.0         0  Teenager  \n",
       "6938           6.6                155.0         0    Senior  \n",
       "31363          6.1                160.0         0  Teenager  \n",
       "62298          5.8                 80.0         0     Adult  \n",
       "79776          6.0                159.0         0     Adult  "
      ]
     },
     "execution_count": 2,
     "metadata": {},
     "output_type": "execute_result"
    }
   ],
   "source": [
    "df.sample(10)"
   ]
  },
  {
   "cell_type": "code",
   "execution_count": 3,
   "id": "1b055269",
   "metadata": {},
   "outputs": [],
   "source": [
    "# necessary libraries\n",
    "from sklearn.model_selection import train_test_split\n",
    "from sklearn.preprocessing import LabelEncoder\n",
    "from sklearn.preprocessing import StandardScaler\n",
    "from sklearn.compose import ColumnTransformer\n",
    "from sklearn.preprocessing import OneHotEncoder\n",
    "from sklearn.pipeline import Pipeline\n",
    "# Display Pipeline\n",
    "from sklearn import set_config\n",
    "set_config(display='diagram')"
   ]
  },
  {
   "cell_type": "code",
   "execution_count": 4,
   "id": "ae58e982",
   "metadata": {},
   "outputs": [
    {
     "name": "stdout",
     "output_type": "stream",
     "text": [
      "0    87646\n",
      "1     8482\n",
      "Name: diabetes, dtype: int64\n",
      "Note: Imabalanced Data\n"
     ]
    },
    {
     "data": {
      "image/png": "[encoded data removed]",
      "text/plain": [
       "<Figure size 640x480 with 1 Axes>"
      ]
     },
     "metadata": {},
     "output_type": "display_data"
    }
   ],
   "source": [
    "print(df.diabetes.value_counts())\n",
    "sns.countplot(x=df.diabetes)\n",
    "print(\"Note: Imabalanced Data\")"
   ]
  },
  {
   "cell_type": "code",
   "execution_count": 5,
   "id": "5d6d2fbb",
   "metadata": {},
   "outputs": [
    {
     "data": {
      "text/html": [
       "<style>#sk-container-id-1 {color: black;background-color: white;}#sk-container-id-1 pre{padding: 0;}#sk-container-id-1 div.sk-toggleable {background-color: white;}#sk-container-id-1 label.sk-toggleable__label {cursor: pointer;display: block;width: 100%;margin-bottom: 0;padding: 0.3em;box-sizing: border-box;text-align: center;}#sk-container-id-1 label.sk-toggleable__label-arrow:before {content: \"▸\";float: left;margin-right: 0.25em;color: #696969;}#sk-container-id-1 label.sk-toggleable__label-arrow:hover:before {color: black;}#sk-container-id-1 div.sk-estimator:hover label.sk-toggleable__label-arrow:before {color: black;}#sk-container-id-1 div.sk-toggleable__content {max-height: 0;max-width: 0;overflow: hidden;text-align: left;background-color: #f0f8ff;}#sk-container-id-1 div.sk-toggleable__content pre {margin: 0.2em;color: black;border-radius: 0.25em;background-color: #f0f8ff;}#sk-container-id-1 input.sk-toggleable__control:checked~div.sk-toggleable__content {max-height: 200px;max-width: 100%;overflow: auto;}#sk-container-id-1 input.sk-toggleable__control:checked~label.sk-toggleable__label-arrow:before {content: \"▾\";}#sk-container-id-1 div.sk-estimator input.sk-toggleable__control:checked~label.sk-toggleable__label {background-color: #d4ebff;}#sk-container-id-1 div.sk-label input.sk-toggleable__control:checked~label.sk-toggleable__label {background-color: #d4ebff;}#sk-container-id-1 input.sk-hidden--visually {border: 0;clip: rect(1px 1px 1px 1px);clip: rect(1px, 1px, 1px, 1px);height: 1px;margin: -1px;overflow: hidden;padding: 0;position: absolute;width: 1px;}#sk-container-id-1 div.sk-estimator {font-family: monospace;background-color: #f0f8ff;border: 1px dotted black;border-radius: 0.25em;box-sizing: border-box;margin-bottom: 0.5em;}#sk-container-id-1 div.sk-estimator:hover {background-color: #d4ebff;}#sk-container-id-1 div.sk-parallel-item::after {content: \"\";width: 100%;border-bottom: 1px solid gray;flex-grow: 1;}#sk-container-id-1 div.sk-label:hover label.sk-toggleable__label {background-color: #d4ebff;}#sk-container-id-1 div.sk-serial::before {content: \"\";position: absolute;border-left: 1px solid gray;box-sizing: border-box;top: 0;bottom: 0;left: 50%;z-index: 0;}#sk-container-id-1 div.sk-serial {display: flex;flex-direction: column;align-items: center;background-color: white;padding-right: 0.2em;padding-left: 0.2em;position: relative;}#sk-container-id-1 div.sk-item {position: relative;z-index: 1;}#sk-container-id-1 div.sk-parallel {display: flex;align-items: stretch;justify-content: center;background-color: white;position: relative;}#sk-container-id-1 div.sk-item::before, #sk-container-id-1 div.sk-parallel-item::before {content: \"\";position: absolute;border-left: 1px solid gray;box-sizing: border-box;top: 0;bottom: 0;left: 50%;z-index: -1;}#sk-container-id-1 div.sk-parallel-item {display: flex;flex-direction: column;z-index: 1;position: relative;background-color: white;}#sk-container-id-1 div.sk-parallel-item:first-child::after {align-self: flex-end;width: 50%;}#sk-container-id-1 div.sk-parallel-item:last-child::after {align-self: flex-start;width: 50%;}#sk-container-id-1 div.sk-parallel-item:only-child::after {width: 0;}#sk-container-id-1 div.sk-dashed-wrapped {border: 1px dashed gray;margin: 0 0.4em 0.5em 0.4em;box-sizing: border-box;padding-bottom: 0.4em;background-color: white;}#sk-container-id-1 div.sk-label label {font-family: monospace;font-weight: bold;display: inline-block;line-height: 1.2em;}#sk-container-id-1 div.sk-label-container {text-align: center;}#sk-container-id-1 div.sk-container {/* jupyter's `normalize.less` sets `[hidden] { display: none; }` but bootstrap.min.css set `[hidden] { display: none !important; }` so we also need the `!important` here to be able to override the default hidden behavior on the sphinx rendered scikit-learn.org. See: https://github.com/scikit-learn/scikit-learn/issues/21755 */display: inline-block !important;position: relative;}#sk-container-id-1 div.sk-text-repr-fallback {display: none;}</style><div id=\"sk-container-id-1\" class=\"sk-top-container\"><div class=\"sk-text-repr-fallback\"><pre>Pipeline(steps=[(&#x27;trf1&#x27;,\n",
       "                 ColumnTransformer(remainder=&#x27;passthrough&#x27;,\n",
       "                                   transformers=[(&#x27;ohe&#x27;,\n",
       "                                                  OneHotEncoder(sparse=False),\n",
       "                                                  [0, 4, 8])])),\n",
       "                (&#x27;trf2&#x27;,\n",
       "                 ColumnTransformer(remainder=&#x27;passthrough&#x27;,\n",
       "                                   transformers=[(&#x27;scaling&#x27;, StandardScaler(),\n",
       "                                                  slice(0, 21, None))]))])</pre><b>In a Jupyter environment, please rerun this cell to show the HTML representation or trust the notebook. <br />On GitHub, the HTML representation is unable to render, please try loading this page with nbviewer.org.</b></div><div class=\"sk-container\" hidden><div class=\"sk-item sk-dashed-wrapped\"><div class=\"sk-label-container\"><div class=\"sk-label sk-toggleable\"><input class=\"sk-toggleable__control sk-hidden--visually\" id=\"sk-estimator-id-1\" type=\"checkbox\" ><label for=\"sk-estimator-id-1\" class=\"sk-toggleable__label sk-toggleable__label-arrow\">Pipeline</label><div class=\"sk-toggleable__content\"><pre>Pipeline(steps=[(&#x27;trf1&#x27;,\n",
       "                 ColumnTransformer(remainder=&#x27;passthrough&#x27;,\n",
       "                                   transformers=[(&#x27;ohe&#x27;,\n",
       "                                                  OneHotEncoder(sparse=False),\n",
       "                                                  [0, 4, 8])])),\n",
       "                (&#x27;trf2&#x27;,\n",
       "                 ColumnTransformer(remainder=&#x27;passthrough&#x27;,\n",
       "                                   transformers=[(&#x27;scaling&#x27;, StandardScaler(),\n",
       "                                                  slice(0, 21, None))]))])</pre></div></div></div><div class=\"sk-serial\"><div class=\"sk-item sk-dashed-wrapped\"><div class=\"sk-label-container\"><div class=\"sk-label sk-toggleable\"><input class=\"sk-toggleable__control sk-hidden--visually\" id=\"sk-estimator-id-2\" type=\"checkbox\" ><label for=\"sk-estimator-id-2\" class=\"sk-toggleable__label sk-toggleable__label-arrow\">trf1: ColumnTransformer</label><div class=\"sk-toggleable__content\"><pre>ColumnTransformer(remainder=&#x27;passthrough&#x27;,\n",
       "                  transformers=[(&#x27;ohe&#x27;, OneHotEncoder(sparse=False),\n",
       "                                 [0, 4, 8])])</pre></div></div></div><div class=\"sk-parallel\"><div class=\"sk-parallel-item\"><div class=\"sk-item\"><div class=\"sk-label-container\"><div class=\"sk-label sk-toggleable\"><input class=\"sk-toggleable__control sk-hidden--visually\" id=\"sk-estimator-id-3\" type=\"checkbox\" ><label for=\"sk-estimator-id-3\" class=\"sk-toggleable__label sk-toggleable__label-arrow\">ohe</label><div class=\"sk-toggleable__content\"><pre>[0, 4, 8]</pre></div></div></div><div class=\"sk-serial\"><div class=\"sk-item\"><div class=\"sk-estimator sk-toggleable\"><input class=\"sk-toggleable__control sk-hidden--visually\" id=\"sk-estimator-id-4\" type=\"checkbox\" ><label for=\"sk-estimator-id-4\" class=\"sk-toggleable__label sk-toggleable__label-arrow\">OneHotEncoder</label><div class=\"sk-toggleable__content\"><pre>OneHotEncoder(sparse=False)</pre></div></div></div></div></div></div><div class=\"sk-parallel-item\"><div class=\"sk-item\"><div class=\"sk-label-container\"><div class=\"sk-label sk-toggleable\"><input class=\"sk-toggleable__control sk-hidden--visually\" id=\"sk-estimator-id-5\" type=\"checkbox\" ><label for=\"sk-estimator-id-5\" class=\"sk-toggleable__label sk-toggleable__label-arrow\">remainder</label><div class=\"sk-toggleable__content\"><pre>[&#x27;age&#x27;, &#x27;hypertension&#x27;, &#x27;heart_disease&#x27;, &#x27;bmi&#x27;, &#x27;HbA1c_level&#x27;, &#x27;blood_glucose_level&#x27;]</pre></div></div></div><div class=\"sk-serial\"><div class=\"sk-item\"><div class=\"sk-estimator sk-toggleable\"><input class=\"sk-toggleable__control sk-hidden--visually\" id=\"sk-estimator-id-6\" type=\"checkbox\" ><label for=\"sk-estimator-id-6\" class=\"sk-toggleable__label sk-toggleable__label-arrow\">passthrough</label><div class=\"sk-toggleable__content\"><pre>passthrough</pre></div></div></div></div></div></div></div></div><div class=\"sk-item sk-dashed-wrapped\"><div class=\"sk-label-container\"><div class=\"sk-label sk-toggleable\"><input class=\"sk-toggleable__control sk-hidden--visually\" id=\"sk-estimator-id-7\" type=\"checkbox\" ><label for=\"sk-estimator-id-7\" class=\"sk-toggleable__label sk-toggleable__label-arrow\">trf2: ColumnTransformer</label><div class=\"sk-toggleable__content\"><pre>ColumnTransformer(remainder=&#x27;passthrough&#x27;,\n",
       "                  transformers=[(&#x27;scaling&#x27;, StandardScaler(),\n",
       "                                 slice(0, 21, None))])</pre></div></div></div><div class=\"sk-parallel\"><div class=\"sk-parallel-item\"><div class=\"sk-item\"><div class=\"sk-label-container\"><div class=\"sk-label sk-toggleable\"><input class=\"sk-toggleable__control sk-hidden--visually\" id=\"sk-estimator-id-8\" type=\"checkbox\" ><label for=\"sk-estimator-id-8\" class=\"sk-toggleable__label sk-toggleable__label-arrow\">scaling</label><div class=\"sk-toggleable__content\"><pre>slice(0, 21, None)</pre></div></div></div><div class=\"sk-serial\"><div class=\"sk-item\"><div class=\"sk-estimator sk-toggleable\"><input class=\"sk-toggleable__control sk-hidden--visually\" id=\"sk-estimator-id-9\" type=\"checkbox\" ><label for=\"sk-estimator-id-9\" class=\"sk-toggleable__label sk-toggleable__label-arrow\">StandardScaler</label><div class=\"sk-toggleable__content\"><pre>StandardScaler()</pre></div></div></div></div></div></div><div class=\"sk-parallel-item\"><div class=\"sk-item\"><div class=\"sk-label-container\"><div class=\"sk-label sk-toggleable\"><input class=\"sk-toggleable__control sk-hidden--visually\" id=\"sk-estimator-id-10\" type=\"checkbox\" ><label for=\"sk-estimator-id-10\" class=\"sk-toggleable__label sk-toggleable__label-arrow\">remainder</label><div class=\"sk-toggleable__content\"><pre>[]</pre></div></div></div><div class=\"sk-serial\"><div class=\"sk-item\"><div class=\"sk-estimator sk-toggleable\"><input class=\"sk-toggleable__control sk-hidden--visually\" id=\"sk-estimator-id-11\" type=\"checkbox\" ><label for=\"sk-estimator-id-11\" class=\"sk-toggleable__label sk-toggleable__label-arrow\">passthrough</label><div class=\"sk-toggleable__content\"><pre>passthrough</pre></div></div></div></div></div></div></div></div></div></div></div></div>"
      ],
      "text/plain": [
       "Pipeline(steps=[('trf1',\n",
       "                 ColumnTransformer(remainder='passthrough',\n",
       "                                   transformers=[('ohe',\n",
       "                                                  OneHotEncoder(sparse=False),\n",
       "                                                  [0, 4, 8])])),\n",
       "                ('trf2',\n",
       "                 ColumnTransformer(remainder='passthrough',\n",
       "                                   transformers=[('scaling', StandardScaler(),\n",
       "                                                  slice(0, 21, None))]))])"
      ]
     },
     "execution_count": 5,
     "metadata": {},
     "output_type": "execute_result"
    }
   ],
   "source": [
    "X = df.drop('diabetes',axis=1)     # features\n",
    "y = df['diabetes']                 # target variable\n",
    "\n",
    "# transformer 1\n",
    "trf1 = ColumnTransformer(transformers=[\n",
    "    ('ohe',OneHotEncoder(sparse=False),[0,4,8])\n",
    "],remainder='passthrough')\n",
    "\n",
    "# transformer 2\n",
    "trf2 = ColumnTransformer(transformers=[\n",
    "    ('scaling',StandardScaler(),slice(0,21))\n",
    "],remainder='passthrough')\n",
    "\n",
    "# building pipeline\n",
    "pipe = Pipeline([\n",
    "    ('trf1',trf1),\n",
    "    ('trf2',trf2)])\n",
    "\n",
    "# split up X,y\n",
    "Xtrain, Xtest, ytrain, ytest = train_test_split(X , y , random_state=65, stratify=df.diabetes)\n",
    "\n",
    "# transform data\n",
    "Xtrain_fit = pipe.fit_transform(Xtrain)\n",
    "Xtest_fit =  pipe.transform(Xtest)\n",
    "\n",
    "# pipeline workflow\n",
    "pipe"
   ]
  },
  {
   "cell_type": "markdown",
   "id": "35396955",
   "metadata": {},
   "source": [
    "# Model  with imbalanced data"
   ]
  },
  {
   "cell_type": "code",
   "execution_count": 6,
   "id": "8d22a593",
   "metadata": {},
   "outputs": [],
   "source": [
    "# time count for model building\n",
    "import time\n",
    "start = time.time()"
   ]
  },
  {
   "cell_type": "code",
   "execution_count": 7,
   "id": "d8ddc682",
   "metadata": {},
   "outputs": [
    {
     "data": {
      "text/plain": [
       "Counter({0: 87646, 1: 8482})"
      ]
     },
     "execution_count": 7,
     "metadata": {},
     "output_type": "execute_result"
    }
   ],
   "source": [
    "import imblearn\n",
    "from collections import Counter\n",
    "\n",
    "# distribution of target class in actual data\n",
    "Counter(y)"
   ]
  },
  {
   "cell_type": "code",
   "execution_count": 8,
   "id": "a843b52d",
   "metadata": {},
   "outputs": [
    {
     "name": "stdout",
     "output_type": "stream",
     "text": [
      "n_nb: 4 max score: 0.9582223701731025\n"
     ]
    },
    {
     "data": {
      "image/png": "[encoded data removed]",
      "text/plain": [
       "<Figure size 640x480 with 1 Axes>"
      ]
     },
     "metadata": {},
     "output_type": "display_data"
    }
   ],
   "source": [
    "from sklearn.neighbors import KNeighborsClassifier\n",
    "from sklearn.metrics import accuracy_score\n",
    "from sklearn import metrics\n",
    "from sklearn.metrics import classification_report\n",
    "score = []\n",
    "n_nb = []\n",
    "for k in range(1,51):\n",
    "    knn = KNeighborsClassifier(n_neighbors=k)\n",
    "    knn.fit(Xtrain_fit,ytrain)\n",
    "    y_pred = knn.predict(Xtest_fit)\n",
    "    score.append(accuracy_score(ytest,y_pred))\n",
    "    n_nb.append(k)\n",
    "print( 'n_nb:',n_nb[score.index(max(score))],'max score:',max(score))\n",
    "plt.plot(n_nb,score,'*-')\n",
    "plt.xlabel('K')\n",
    "plt.ylabel(\"score\")\n",
    "plt.tight_layout()"
   ]
  },
  {
   "cell_type": "code",
   "execution_count": 9,
   "id": "3d20ddc8",
   "metadata": {},
   "outputs": [
    {
     "data": {
      "text/plain": [
       "0.9582223701731025"
      ]
     },
     "execution_count": 9,
     "metadata": {},
     "output_type": "execute_result"
    }
   ],
   "source": [
    "Knn = KNeighborsClassifier(n_neighbors=n_nb[score.index(max(score))])\n",
    "Knn.fit(Xtrain_fit,ytrain)\n",
    "y_pred = Knn.predict(Xtest_fit)\n",
    "accuracy_score(ytest,y_pred)"
   ]
  },
  {
   "cell_type": "code",
   "execution_count": 10,
   "id": "c3c08fa2",
   "metadata": {},
   "outputs": [
    {
     "data": {
      "text/html": [
       "<div>\n",
       "<style scoped>\n",
       "    .dataframe tbody tr th:only-of-type {\n",
       "        vertical-align: middle;\n",
       "    }\n",
       "\n",
       "    .dataframe tbody tr th {\n",
       "        vertical-align: top;\n",
       "    }\n",
       "\n",
       "    .dataframe thead th {\n",
       "        text-align: right;\n",
       "    }\n",
       "</style>\n",
       "<table border=\"1\" class=\"dataframe\">\n",
       "  <thead>\n",
       "    <tr style=\"text-align: right;\">\n",
       "      <th></th>\n",
       "      <th>Predicted 0</th>\n",
       "      <th>Predicted 1</th>\n",
       "    </tr>\n",
       "  </thead>\n",
       "  <tbody>\n",
       "    <tr>\n",
       "      <th>Actual 0</th>\n",
       "      <td>21814</td>\n",
       "      <td>98</td>\n",
       "    </tr>\n",
       "    <tr>\n",
       "      <th>Actual 1</th>\n",
       "      <td>906</td>\n",
       "      <td>1214</td>\n",
       "    </tr>\n",
       "  </tbody>\n",
       "</table>\n",
       "</div>"
      ],
      "text/plain": [
       "          Predicted 0  Predicted 1\n",
       "Actual 0        21814           98\n",
       "Actual 1          906         1214"
      ]
     },
     "metadata": {},
     "output_type": "display_data"
    },
    {
     "name": "stdout",
     "output_type": "stream",
     "text": [
      "              precision    recall  f1-score   support\n",
      "\n",
      "           0       0.96      1.00      0.98     21912\n",
      "           1       0.93      0.57      0.71      2120\n",
      "\n",
      "    accuracy                           0.96     24032\n",
      "   macro avg       0.94      0.78      0.84     24032\n",
      "weighted avg       0.96      0.96      0.95     24032\n",
      "\n"
     ]
    }
   ],
   "source": [
    "conf_matrix = metrics.confusion_matrix(ytest,y_pred)\n",
    "confusion_matrix = pd.DataFrame(conf_matrix, index=['Actual 0', 'Actual 1'], columns=['Predicted 0', 'Predicted 1'])\n",
    "display(confusion_matrix)\n",
    "print(classification_report(ytest,y_pred))"
   ]
  },
  {
   "cell_type": "markdown",
   "id": "28ab9eae",
   "metadata": {},
   "source": [
    "# Models with balanced data "
   ]
  },
  {
   "cell_type": "code",
   "execution_count": 11,
   "id": "52e39220",
   "metadata": {},
   "outputs": [],
   "source": [
    "# function for balancing data \n",
    "def resampled_model(resampler):\n",
    "    #global Xtest_fit, Xtest_fit, ytrain, ytest_, n_neigh\n",
    "    X_fit = pipe.fit_transform(X)\n",
    "    x_res,y_res = resampler.fit_resample(X_fit,y)\n",
    "    print(\"distribution of target class after resampling\")\n",
    "    print(Counter(y_res))\n",
    "\n",
    "    Xtrain, Xtest, ytrain, ytest = train_test_split(x_res , y_res , test_size=0.30, random_state=35, stratify=y_res.values)\n",
    "    # transform data\n",
    "    #Xtrain_fit = pipe.fit_transform(Xtrain)\n",
    "    #Xtest_fit =  pipe.transform(Xtest)\n",
    "    # empty lists for storing scores and n_nb\n",
    "    score = []\n",
    "    n_nb = []\n",
    "    for k in range(1,51):\n",
    "        knn = KNeighborsClassifier(n_neighbors=k)\n",
    "        knn.fit(Xtrain,ytrain)\n",
    "        ypred = knn.predict(Xtest)\n",
    "        score.append(accuracy_score(ytest,ypred))\n",
    "        n_nb.append(k)\n",
    "    n_neigh = n_nb[score.index(max(score))]\n",
    "    print( 'neighbours:',n_neigh,'max score:',max(score))\n",
    "    \n",
    "    Knn = KNeighborsClassifier(n_neighbors=n_neigh)\n",
    "    Knn.fit(Xtrain,ytrain)\n",
    "    print(Knn)\n",
    "    y_pred = Knn.predict(Xtest)\n",
    "    print(\"Accuracy Score: \",accuracy_score(ytest,y_pred))\n",
    "    conf_matrix = metrics.confusion_matrix(ytest,y_pred)\n",
    "    confusion_matrix = pd.DataFrame(conf_matrix, index=['Actual 0', 'Actual 1'], columns=['Predicted 0', 'Predicted 1'])\n",
    "    display(confusion_matrix)\n",
    "    print(\"Classification Report\")\n",
    "    print(classification_report(ytest,y_pred))\n",
    "    "
   ]
  },
  {
   "cell_type": "markdown",
   "id": "3d9c11ac",
   "metadata": {},
   "source": [
    "### UnderSampling - random approach"
   ]
  },
  {
   "cell_type": "code",
   "execution_count": 12,
   "id": "9d8f8d91",
   "metadata": {},
   "outputs": [
    {
     "name": "stdout",
     "output_type": "stream",
     "text": [
      "distribution of target class after resampling\n",
      "Counter({0: 8482, 1: 8482})\n",
      "neighbours: 21 max score: 0.8823182711198428\n",
      "KNeighborsClassifier(n_neighbors=21)\n",
      "Accuracy Score:  0.8823182711198428\n"
     ]
    },
    {
     "data": {
      "text/html": [
       "<div>\n",
       "<style scoped>\n",
       "    .dataframe tbody tr th:only-of-type {\n",
       "        vertical-align: middle;\n",
       "    }\n",
       "\n",
       "    .dataframe tbody tr th {\n",
       "        vertical-align: top;\n",
       "    }\n",
       "\n",
       "    .dataframe thead th {\n",
       "        text-align: right;\n",
       "    }\n",
       "</style>\n",
       "<table border=\"1\" class=\"dataframe\">\n",
       "  <thead>\n",
       "    <tr style=\"text-align: right;\">\n",
       "      <th></th>\n",
       "      <th>Predicted 0</th>\n",
       "      <th>Predicted 1</th>\n",
       "    </tr>\n",
       "  </thead>\n",
       "  <tbody>\n",
       "    <tr>\n",
       "      <th>Actual 0</th>\n",
       "      <td>2193</td>\n",
       "      <td>352</td>\n",
       "    </tr>\n",
       "    <tr>\n",
       "      <th>Actual 1</th>\n",
       "      <td>247</td>\n",
       "      <td>2298</td>\n",
       "    </tr>\n",
       "  </tbody>\n",
       "</table>\n",
       "</div>"
      ],
      "text/plain": [
       "          Predicted 0  Predicted 1\n",
       "Actual 0         2193          352\n",
       "Actual 1          247         2298"
      ]
     },
     "metadata": {},
     "output_type": "display_data"
    },
    {
     "name": "stdout",
     "output_type": "stream",
     "text": [
      "Classification Report\n",
      "              precision    recall  f1-score   support\n",
      "\n",
      "           0       0.90      0.86      0.88      2545\n",
      "           1       0.87      0.90      0.88      2545\n",
      "\n",
      "    accuracy                           0.88      5090\n",
      "   macro avg       0.88      0.88      0.88      5090\n",
      "weighted avg       0.88      0.88      0.88      5090\n",
      "\n"
     ]
    }
   ],
   "source": [
    "from imblearn.under_sampling import RandomUnderSampler\n",
    "resampled_model(RandomUnderSampler())"
   ]
  },
  {
   "cell_type": "markdown",
   "id": "02a6ef14",
   "metadata": {},
   "source": [
    "### UnderSampling - centroid approach"
   ]
  },
  {
   "cell_type": "code",
   "execution_count": 13,
   "id": "fefeb86b",
   "metadata": {},
   "outputs": [
    {
     "name": "stdout",
     "output_type": "stream",
     "text": [
      "distribution of target class after resampling\n",
      "Counter({0: 8482, 1: 8482})\n",
      "neighbours: 14 max score: 0.8563850687622789\n",
      "KNeighborsClassifier(n_neighbors=14)\n",
      "Accuracy Score:  0.8563850687622789\n"
     ]
    },
    {
     "data": {
      "text/html": [
       "<div>\n",
       "<style scoped>\n",
       "    .dataframe tbody tr th:only-of-type {\n",
       "        vertical-align: middle;\n",
       "    }\n",
       "\n",
       "    .dataframe tbody tr th {\n",
       "        vertical-align: top;\n",
       "    }\n",
       "\n",
       "    .dataframe thead th {\n",
       "        text-align: right;\n",
       "    }\n",
       "</style>\n",
       "<table border=\"1\" class=\"dataframe\">\n",
       "  <thead>\n",
       "    <tr style=\"text-align: right;\">\n",
       "      <th></th>\n",
       "      <th>Predicted 0</th>\n",
       "      <th>Predicted 1</th>\n",
       "    </tr>\n",
       "  </thead>\n",
       "  <tbody>\n",
       "    <tr>\n",
       "      <th>Actual 0</th>\n",
       "      <td>2131</td>\n",
       "      <td>414</td>\n",
       "    </tr>\n",
       "    <tr>\n",
       "      <th>Actual 1</th>\n",
       "      <td>317</td>\n",
       "      <td>2228</td>\n",
       "    </tr>\n",
       "  </tbody>\n",
       "</table>\n",
       "</div>"
      ],
      "text/plain": [
       "          Predicted 0  Predicted 1\n",
       "Actual 0         2131          414\n",
       "Actual 1          317         2228"
      ]
     },
     "metadata": {},
     "output_type": "display_data"
    },
    {
     "name": "stdout",
     "output_type": "stream",
     "text": [
      "Classification Report\n",
      "              precision    recall  f1-score   support\n",
      "\n",
      "           0       0.87      0.84      0.85      2545\n",
      "           1       0.84      0.88      0.86      2545\n",
      "\n",
      "    accuracy                           0.86      5090\n",
      "   macro avg       0.86      0.86      0.86      5090\n",
      "weighted avg       0.86      0.86      0.86      5090\n",
      "\n"
     ]
    }
   ],
   "source": [
    "from imblearn.under_sampling import ClusterCentroids\n",
    "resampled_model(ClusterCentroids())"
   ]
  },
  {
   "cell_type": "markdown",
   "id": "c8dfb7d2",
   "metadata": {},
   "source": [
    "### UnderSampling - ENN"
   ]
  },
  {
   "cell_type": "code",
   "execution_count": 14,
   "id": "27be70a2",
   "metadata": {},
   "outputs": [
    {
     "name": "stdout",
     "output_type": "stream",
     "text": [
      "distribution of target class after resampling\n",
      "Counter({0: 81518, 1: 8482})\n",
      "neighbours: 1 max score: 0.974037037037037\n",
      "KNeighborsClassifier(n_neighbors=1)\n",
      "Accuracy Score:  0.974037037037037\n"
     ]
    },
    {
     "data": {
      "text/html": [
       "<div>\n",
       "<style scoped>\n",
       "    .dataframe tbody tr th:only-of-type {\n",
       "        vertical-align: middle;\n",
       "    }\n",
       "\n",
       "    .dataframe tbody tr th {\n",
       "        vertical-align: top;\n",
       "    }\n",
       "\n",
       "    .dataframe thead th {\n",
       "        text-align: right;\n",
       "    }\n",
       "</style>\n",
       "<table border=\"1\" class=\"dataframe\">\n",
       "  <thead>\n",
       "    <tr style=\"text-align: right;\">\n",
       "      <th></th>\n",
       "      <th>Predicted 0</th>\n",
       "      <th>Predicted 1</th>\n",
       "    </tr>\n",
       "  </thead>\n",
       "  <tbody>\n",
       "    <tr>\n",
       "      <th>Actual 0</th>\n",
       "      <td>24307</td>\n",
       "      <td>148</td>\n",
       "    </tr>\n",
       "    <tr>\n",
       "      <th>Actual 1</th>\n",
       "      <td>553</td>\n",
       "      <td>1992</td>\n",
       "    </tr>\n",
       "  </tbody>\n",
       "</table>\n",
       "</div>"
      ],
      "text/plain": [
       "          Predicted 0  Predicted 1\n",
       "Actual 0        24307          148\n",
       "Actual 1          553         1992"
      ]
     },
     "metadata": {},
     "output_type": "display_data"
    },
    {
     "name": "stdout",
     "output_type": "stream",
     "text": [
      "Classification Report\n",
      "              precision    recall  f1-score   support\n",
      "\n",
      "           0       0.98      0.99      0.99     24455\n",
      "           1       0.93      0.78      0.85      2545\n",
      "\n",
      "    accuracy                           0.97     27000\n",
      "   macro avg       0.95      0.89      0.92     27000\n",
      "weighted avg       0.97      0.97      0.97     27000\n",
      "\n"
     ]
    }
   ],
   "source": [
    "from imblearn.under_sampling import EditedNearestNeighbours\n",
    "resampled_model(EditedNearestNeighbours())"
   ]
  },
  {
   "cell_type": "markdown",
   "id": "565d52a8",
   "metadata": {},
   "source": [
    "### OverSampling - random approach"
   ]
  },
  {
   "cell_type": "code",
   "execution_count": 15,
   "id": "c9b32552",
   "metadata": {},
   "outputs": [
    {
     "name": "stdout",
     "output_type": "stream",
     "text": [
      "distribution of target class after resampling\n",
      "Counter({0: 87646, 1: 87646})\n",
      "neighbours: 1 max score: 0.9810413021982202\n",
      "KNeighborsClassifier(n_neighbors=1)\n",
      "Accuracy Score:  0.9810413021982202\n"
     ]
    },
    {
     "data": {
      "text/html": [
       "<div>\n",
       "<style scoped>\n",
       "    .dataframe tbody tr th:only-of-type {\n",
       "        vertical-align: middle;\n",
       "    }\n",
       "\n",
       "    .dataframe tbody tr th {\n",
       "        vertical-align: top;\n",
       "    }\n",
       "\n",
       "    .dataframe thead th {\n",
       "        text-align: right;\n",
       "    }\n",
       "</style>\n",
       "<table border=\"1\" class=\"dataframe\">\n",
       "  <thead>\n",
       "    <tr style=\"text-align: right;\">\n",
       "      <th></th>\n",
       "      <th>Predicted 0</th>\n",
       "      <th>Predicted 1</th>\n",
       "    </tr>\n",
       "  </thead>\n",
       "  <tbody>\n",
       "    <tr>\n",
       "      <th>Actual 0</th>\n",
       "      <td>25330</td>\n",
       "      <td>964</td>\n",
       "    </tr>\n",
       "    <tr>\n",
       "      <th>Actual 1</th>\n",
       "      <td>33</td>\n",
       "      <td>26261</td>\n",
       "    </tr>\n",
       "  </tbody>\n",
       "</table>\n",
       "</div>"
      ],
      "text/plain": [
       "          Predicted 0  Predicted 1\n",
       "Actual 0        25330          964\n",
       "Actual 1           33        26261"
      ]
     },
     "metadata": {},
     "output_type": "display_data"
    },
    {
     "name": "stdout",
     "output_type": "stream",
     "text": [
      "Classification Report\n",
      "              precision    recall  f1-score   support\n",
      "\n",
      "           0       1.00      0.96      0.98     26294\n",
      "           1       0.96      1.00      0.98     26294\n",
      "\n",
      "    accuracy                           0.98     52588\n",
      "   macro avg       0.98      0.98      0.98     52588\n",
      "weighted avg       0.98      0.98      0.98     52588\n",
      "\n"
     ]
    }
   ],
   "source": [
    "from imblearn.over_sampling import RandomOverSampler\n",
    "resampled_model(RandomOverSampler())"
   ]
  },
  {
   "cell_type": "markdown",
   "id": "1bcf7217",
   "metadata": {},
   "source": [
    "### OverSampling - SMOTE"
   ]
  },
  {
   "cell_type": "code",
   "execution_count": 16,
   "id": "2a80fc1f",
   "metadata": {},
   "outputs": [
    {
     "name": "stdout",
     "output_type": "stream",
     "text": [
      "distribution of target class after resampling\n",
      "Counter({0: 87646, 1: 87646})\n",
      "neighbours: 1 max score: 0.9599718566973454\n",
      "KNeighborsClassifier(n_neighbors=1)\n",
      "Accuracy Score:  0.9599718566973454\n"
     ]
    },
    {
     "data": {
      "text/html": [
       "<div>\n",
       "<style scoped>\n",
       "    .dataframe tbody tr th:only-of-type {\n",
       "        vertical-align: middle;\n",
       "    }\n",
       "\n",
       "    .dataframe tbody tr th {\n",
       "        vertical-align: top;\n",
       "    }\n",
       "\n",
       "    .dataframe thead th {\n",
       "        text-align: right;\n",
       "    }\n",
       "</style>\n",
       "<table border=\"1\" class=\"dataframe\">\n",
       "  <thead>\n",
       "    <tr style=\"text-align: right;\">\n",
       "      <th></th>\n",
       "      <th>Predicted 0</th>\n",
       "      <th>Predicted 1</th>\n",
       "    </tr>\n",
       "  </thead>\n",
       "  <tbody>\n",
       "    <tr>\n",
       "      <th>Actual 0</th>\n",
       "      <td>24753</td>\n",
       "      <td>1541</td>\n",
       "    </tr>\n",
       "    <tr>\n",
       "      <th>Actual 1</th>\n",
       "      <td>564</td>\n",
       "      <td>25730</td>\n",
       "    </tr>\n",
       "  </tbody>\n",
       "</table>\n",
       "</div>"
      ],
      "text/plain": [
       "          Predicted 0  Predicted 1\n",
       "Actual 0        24753         1541\n",
       "Actual 1          564        25730"
      ]
     },
     "metadata": {},
     "output_type": "display_data"
    },
    {
     "name": "stdout",
     "output_type": "stream",
     "text": [
      "Classification Report\n",
      "              precision    recall  f1-score   support\n",
      "\n",
      "           0       0.98      0.94      0.96     26294\n",
      "           1       0.94      0.98      0.96     26294\n",
      "\n",
      "    accuracy                           0.96     52588\n",
      "   macro avg       0.96      0.96      0.96     52588\n",
      "weighted avg       0.96      0.96      0.96     52588\n",
      "\n"
     ]
    }
   ],
   "source": [
    "from imblearn.over_sampling import SMOTE\n",
    "resampled_model(SMOTE())"
   ]
  },
  {
   "cell_type": "markdown",
   "id": "bc6ea47b",
   "metadata": {},
   "source": [
    "### Mix of UnderSampling and OverSampling - SMOTEENN"
   ]
  },
  {
   "cell_type": "code",
   "execution_count": 17,
   "id": "db4659c7",
   "metadata": {},
   "outputs": [
    {
     "name": "stdout",
     "output_type": "stream",
     "text": [
      "distribution of target class after resampling\n",
      "Counter({1: 82141, 0: 77997})\n",
      "neighbours: 1 max score: 0.996482244702552\n",
      "KNeighborsClassifier(n_neighbors=1)\n",
      "Accuracy Score:  0.996482244702552\n"
     ]
    },
    {
     "data": {
      "text/html": [
       "<div>\n",
       "<style scoped>\n",
       "    .dataframe tbody tr th:only-of-type {\n",
       "        vertical-align: middle;\n",
       "    }\n",
       "\n",
       "    .dataframe tbody tr th {\n",
       "        vertical-align: top;\n",
       "    }\n",
       "\n",
       "    .dataframe thead th {\n",
       "        text-align: right;\n",
       "    }\n",
       "</style>\n",
       "<table border=\"1\" class=\"dataframe\">\n",
       "  <thead>\n",
       "    <tr style=\"text-align: right;\">\n",
       "      <th></th>\n",
       "      <th>Predicted 0</th>\n",
       "      <th>Predicted 1</th>\n",
       "    </tr>\n",
       "  </thead>\n",
       "  <tbody>\n",
       "    <tr>\n",
       "      <th>Actual 0</th>\n",
       "      <td>23253</td>\n",
       "      <td>146</td>\n",
       "    </tr>\n",
       "    <tr>\n",
       "      <th>Actual 1</th>\n",
       "      <td>23</td>\n",
       "      <td>24620</td>\n",
       "    </tr>\n",
       "  </tbody>\n",
       "</table>\n",
       "</div>"
      ],
      "text/plain": [
       "          Predicted 0  Predicted 1\n",
       "Actual 0        23253          146\n",
       "Actual 1           23        24620"
      ]
     },
     "metadata": {},
     "output_type": "display_data"
    },
    {
     "name": "stdout",
     "output_type": "stream",
     "text": [
      "Classification Report\n",
      "              precision    recall  f1-score   support\n",
      "\n",
      "           0       1.00      0.99      1.00     23399\n",
      "           1       0.99      1.00      1.00     24643\n",
      "\n",
      "    accuracy                           1.00     48042\n",
      "   macro avg       1.00      1.00      1.00     48042\n",
      "weighted avg       1.00      1.00      1.00     48042\n",
      "\n"
     ]
    }
   ],
   "source": [
    "from imblearn.combine import SMOTEENN\n",
    "resampled_model(SMOTEENN())"
   ]
  },
  {
   "cell_type": "markdown",
   "id": "11cab17f",
   "metadata": {},
   "source": [
    "### Elapsed time"
   ]
  },
  {
   "cell_type": "code",
   "execution_count": 18,
   "id": "49e73036",
   "metadata": {},
   "outputs": [
    {
     "name": "stdout",
     "output_type": "stream",
     "text": [
      "55.19553201993306  Minutes\n"
     ]
    }
   ],
   "source": [
    "elapsed_time = time.time()-start\n",
    "print(elapsed_time/60,\" Minutes\")"
   ]
  },
  {
   "cell_type": "markdown",
   "id": "c1227bf9",
   "metadata": {},
   "source": [
    "# Conclusion"
   ]
  },
  {
   "cell_type": "markdown",
   "id": "f791e14d",
   "metadata": {},
   "source": [
    "Data set is imbalanced and majority class is 0 i.e non diabetic. At first model is developed with imbalanced data and found very low recall for class 1 i.e diabetic . Since, model creates a large number of type-1 error, which may very serious matter in this case. Thus, model performance is considered in terms of recall for class 1 .\n",
    "Keeping this in mind, some data balancing techniques like RandomUnderSampler, ClusterCentroids, EditedNearestNeighbours,  RandomOverSampler, SMOTE, SMOTEENN are performed to reduce type-1 error and increase recall for class 1 ."
   ]
  },
  {
   "cell_type": "code",
   "execution_count": null,
   "id": "90b7ddc8",
   "metadata": {},
   "outputs": [],
   "source": []
  }
 ],
 "metadata": {
  "kernelspec": {
   "display_name": "Python 3 (ipykernel)",
   "language": "python",
   "name": "python3"
  },
  "language_info": {
   "codemirror_mode": {
    "name": "ipython",
    "version": 3
   },
   "file_extension": ".py",
   "mimetype": "text/x-python",
   "name": "python",
   "nbconvert_exporter": "python",
   "pygments_lexer": "ipython3",
   "version": "3.11.3"
  }
 },
 "nbformat": 4,
 "nbformat_minor": 5
}
