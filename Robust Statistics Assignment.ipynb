{
 "cells": [
  {
   "cell_type": "code",
   "execution_count": 1,
   "id": "ca04553b",
   "metadata": {},
   "outputs": [],
   "source": [
    "import numpy as np\n",
    "import math "
   ]
  },
  {
   "cell_type": "code",
   "execution_count": 2,
   "id": "430a6d39",
   "metadata": {},
   "outputs": [],
   "source": [
    "# given dataset\n",
    "X =np.array([-50,10,12,14,20,120])  \n",
    "# median of the dataset\n",
    "med_X = np.median(X)\n",
    "# length of he dataset\n",
    "n  = len(X)\n",
    "# delta given 10%\n",
    "Q = 10/100\n",
    "nQ = n*Q"
   ]
  },
  {
   "cell_type": "code",
   "execution_count": 3,
   "id": "cf749919",
   "metadata": {},
   "outputs": [
    {
     "name": "stdout",
     "output_type": "stream",
     "text": [
      "Initial Estimator: 7.412898443291327\n"
     ]
    }
   ],
   "source": [
    "# MADN function\n",
    "def MADN(x):\n",
    "    mad = []\n",
    "    for i in range(len(x)):\n",
    "        m = abs(x[i]-med_X)\n",
    "        mad.append(m)\n",
    "    madx = np.median(mad)\n",
    "    madn = madx/0.6745\n",
    "    return madn\n",
    "init_est = MADN(X)      # initial estimator\n",
    "print(\"Initial Estimator:\",init_est)"
   ]
  },
  {
   "cell_type": "code",
   "execution_count": 4,
   "id": "92a74977",
   "metadata": {},
   "outputs": [
    {
     "name": "stdout",
     "output_type": "stream",
     "text": [
      "rho estimated: [1, 1, 1, 1, 1, 1]\n"
     ]
    }
   ],
   "source": [
    "# bysqure rho funtion\n",
    "def rho_func(x):\n",
    "    rho = []\n",
    "    for i in range(len(x)):\n",
    "        r = min(1,(1-(1-(x[i]/init_est)**2)**3))\n",
    "        rho.append(r)\n",
    "    return rho\n",
    "rho_s = rho_func(X)\n",
    "print(\"rho estimated:\", rho_s)"
   ]
  },
  {
   "cell_type": "code",
   "execution_count": 5,
   "id": "2e28d95d",
   "metadata": {},
   "outputs": [
    {
     "name": "stdout",
     "output_type": "stream",
     "text": [
      "Weight estimated: [0.022, 0.5495, 0.3816, 0.2804, 0.1374, 0.0038]\n"
     ]
    }
   ],
   "source": [
    "# weight function\n",
    "def weight_func(x):\n",
    "    weight = []\n",
    "    for i in range(len(x)):\n",
    "        w = round((rho_s[i]/(x[i]/init_est)**2),4) # rounded upto 4 decimal point\n",
    "        weight.append(w)\n",
    "    return(weight)\n",
    "weight_s = weight_func(X)\n",
    "print(\"Weight estimated:\", weight_s)"
   ]
  },
  {
   "cell_type": "code",
   "execution_count": 6,
   "id": "4036ab6c",
   "metadata": {},
   "outputs": [
    {
     "name": "stdout",
     "output_type": "stream",
     "text": [
      "First iteration of the scale estimate 23.43568504083747\n"
     ]
    }
   ],
   "source": [
    "# scale estimate function\n",
    "def scale_est(wt,x):\n",
    "    est = []\n",
    "    for i in range(len(x)):\n",
    "        wtx = wt[i]*(x[i]**2)\n",
    "        est.append(wtx)\n",
    "    tot_est = sum(est)\n",
    "    first_iter = tot_est/nQ\n",
    "    return first_iter\n",
    "scale_estimate = math.sqrt(scale_est(weight_s,X))\n",
    "print(\"First iteration of the scale estimate\", scale_estimate)"
   ]
  },
  {
   "cell_type": "code",
   "execution_count": null,
   "id": "4cc89cb9",
   "metadata": {},
   "outputs": [],
   "source": []
  }
 ],
 "metadata": {
  "kernelspec": {
   "display_name": "Python 3 (ipykernel)",
   "language": "python",
   "name": "python3"
  },
  "language_info": {
   "codemirror_mode": {
    "name": "ipython",
    "version": 3
   },
   "file_extension": ".py",
   "mimetype": "text/x-python",
   "name": "python",
   "nbconvert_exporter": "python",
   "pygments_lexer": "ipython3",
   "version": "3.11.3"
  }
 },
 "nbformat": 4,
 "nbformat_minor": 5
}
